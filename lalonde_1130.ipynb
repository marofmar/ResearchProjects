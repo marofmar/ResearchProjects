{
  "nbformat": 4,
  "nbformat_minor": 0,
  "metadata": {
    "colab": {
      "name": "lalonde_1130.ipynb",
      "provenance": [],
      "authorship_tag": "ABX9TyMIVV8SetMJ+/y7FWg839Jw",
      "include_colab_link": true
    },
    "kernelspec": {
      "name": "python3",
      "display_name": "Python 3"
    }
  },
  "cells": [
    {
      "cell_type": "markdown",
      "metadata": {
        "id": "view-in-github",
        "colab_type": "text"
      },
      "source": [
        "<a href=\"https://colab.research.google.com/github/marofmar/ResearchProjects/blob/main/lalonde_1130.ipynb\" target=\"_parent\"><img src=\"https://colab.research.google.com/assets/colab-badge.svg\" alt=\"Open In Colab\"/></a>"
      ]
    },
    {
      "cell_type": "markdown",
      "metadata": {
        "id": "Ozxc_gsgFMBy"
      },
      "source": [
        "# 11월 30일\n",
        "\n",
        "- 기본 Sklearn Linear model 이용\n",
        "- Lasso는 피팅이 안됨\n",
        "- Logistic Regression, Ridge regression 굉장히 비슷하게 피팅됨\n",
        "- ScoreMatching: 단순 거리 차이 (Euclidean distance)\n",
        "- Matching w/ Replacement"
      ]
    },
    {
      "cell_type": "code",
      "metadata": {
        "id": "NtJqng-ruOQ7"
      },
      "source": [
        "import numpy as np\n",
        "import pandas as pd\n",
        "import matplotlib.pyplot as plt"
      ],
      "execution_count": 60,
      "outputs": []
    },
    {
      "cell_type": "code",
      "metadata": {
        "id": "PhJ6s2QpulGF"
      },
      "source": [
        "lalonde = pd.read_csv(\"nsw_shuffled.csv\", index_col = 0)"
      ],
      "execution_count": 2,
      "outputs": []
    },
    {
      "cell_type": "code",
      "metadata": {
        "colab": {
          "base_uri": "https://localhost:8080/",
          "height": 204
        },
        "id": "7bQ37iyhun7J",
        "outputId": "d8f548ca-630e-407f-ac04-52358cc9d087"
      },
      "source": [
        "lalonde.head()"
      ],
      "execution_count": 3,
      "outputs": [
        {
          "output_type": "execute_result",
          "data": {
            "text/html": [
              "<div>\n",
              "<style scoped>\n",
              "    .dataframe tbody tr th:only-of-type {\n",
              "        vertical-align: middle;\n",
              "    }\n",
              "\n",
              "    .dataframe tbody tr th {\n",
              "        vertical-align: top;\n",
              "    }\n",
              "\n",
              "    .dataframe thead th {\n",
              "        text-align: right;\n",
              "    }\n",
              "</style>\n",
              "<table border=\"1\" class=\"dataframe\">\n",
              "  <thead>\n",
              "    <tr style=\"text-align: right;\">\n",
              "      <th></th>\n",
              "      <th>treatment</th>\n",
              "      <th>age</th>\n",
              "      <th>education</th>\n",
              "      <th>Black</th>\n",
              "      <th>Hispanic</th>\n",
              "      <th>married</th>\n",
              "      <th>nodegree</th>\n",
              "      <th>RE75</th>\n",
              "      <th>RE78</th>\n",
              "    </tr>\n",
              "  </thead>\n",
              "  <tbody>\n",
              "    <tr>\n",
              "      <th>0</th>\n",
              "      <td>1.0</td>\n",
              "      <td>20.0</td>\n",
              "      <td>9.0</td>\n",
              "      <td>0.0</td>\n",
              "      <td>1.0</td>\n",
              "      <td>0.0</td>\n",
              "      <td>1.0</td>\n",
              "      <td>5875.049</td>\n",
              "      <td>1358.643</td>\n",
              "    </tr>\n",
              "    <tr>\n",
              "      <th>1</th>\n",
              "      <td>0.0</td>\n",
              "      <td>29.0</td>\n",
              "      <td>9.0</td>\n",
              "      <td>0.0</td>\n",
              "      <td>1.0</td>\n",
              "      <td>0.0</td>\n",
              "      <td>1.0</td>\n",
              "      <td>16341.160</td>\n",
              "      <td>16900.300</td>\n",
              "    </tr>\n",
              "    <tr>\n",
              "      <th>2</th>\n",
              "      <td>0.0</td>\n",
              "      <td>18.0</td>\n",
              "      <td>9.0</td>\n",
              "      <td>1.0</td>\n",
              "      <td>0.0</td>\n",
              "      <td>0.0</td>\n",
              "      <td>1.0</td>\n",
              "      <td>2006.629</td>\n",
              "      <td>6546.010</td>\n",
              "    </tr>\n",
              "    <tr>\n",
              "      <th>3</th>\n",
              "      <td>0.0</td>\n",
              "      <td>24.0</td>\n",
              "      <td>11.0</td>\n",
              "      <td>1.0</td>\n",
              "      <td>0.0</td>\n",
              "      <td>0.0</td>\n",
              "      <td>1.0</td>\n",
              "      <td>0.000</td>\n",
              "      <td>0.000</td>\n",
              "    </tr>\n",
              "    <tr>\n",
              "      <th>4</th>\n",
              "      <td>0.0</td>\n",
              "      <td>28.0</td>\n",
              "      <td>8.0</td>\n",
              "      <td>1.0</td>\n",
              "      <td>0.0</td>\n",
              "      <td>0.0</td>\n",
              "      <td>1.0</td>\n",
              "      <td>10610.080</td>\n",
              "      <td>4623.188</td>\n",
              "    </tr>\n",
              "  </tbody>\n",
              "</table>\n",
              "</div>"
            ],
            "text/plain": [
              "   treatment   age  education  Black  ...  married  nodegree       RE75       RE78\n",
              "0        1.0  20.0        9.0    0.0  ...      0.0       1.0   5875.049   1358.643\n",
              "1        0.0  29.0        9.0    0.0  ...      0.0       1.0  16341.160  16900.300\n",
              "2        0.0  18.0        9.0    1.0  ...      0.0       1.0   2006.629   6546.010\n",
              "3        0.0  24.0       11.0    1.0  ...      0.0       1.0      0.000      0.000\n",
              "4        0.0  28.0        8.0    1.0  ...      0.0       1.0  10610.080   4623.188\n",
              "\n",
              "[5 rows x 9 columns]"
            ]
          },
          "metadata": {
            "tags": []
          },
          "execution_count": 3
        }
      ]
    },
    {
      "cell_type": "code",
      "metadata": {
        "colab": {
          "base_uri": "https://localhost:8080/",
          "height": 297
        },
        "id": "BjXg_6NwupUB",
        "outputId": "b66001be-30d7-4562-f1ef-f3e105e43d18"
      },
      "source": [
        "lalonde.describe()"
      ],
      "execution_count": 4,
      "outputs": [
        {
          "output_type": "execute_result",
          "data": {
            "text/html": [
              "<div>\n",
              "<style scoped>\n",
              "    .dataframe tbody tr th:only-of-type {\n",
              "        vertical-align: middle;\n",
              "    }\n",
              "\n",
              "    .dataframe tbody tr th {\n",
              "        vertical-align: top;\n",
              "    }\n",
              "\n",
              "    .dataframe thead th {\n",
              "        text-align: right;\n",
              "    }\n",
              "</style>\n",
              "<table border=\"1\" class=\"dataframe\">\n",
              "  <thead>\n",
              "    <tr style=\"text-align: right;\">\n",
              "      <th></th>\n",
              "      <th>treatment</th>\n",
              "      <th>age</th>\n",
              "      <th>education</th>\n",
              "      <th>Black</th>\n",
              "      <th>Hispanic</th>\n",
              "      <th>married</th>\n",
              "      <th>nodegree</th>\n",
              "      <th>RE75</th>\n",
              "      <th>RE78</th>\n",
              "    </tr>\n",
              "  </thead>\n",
              "  <tbody>\n",
              "    <tr>\n",
              "      <th>count</th>\n",
              "      <td>722.000000</td>\n",
              "      <td>722.000000</td>\n",
              "      <td>722.000000</td>\n",
              "      <td>722.000000</td>\n",
              "      <td>722.000000</td>\n",
              "      <td>722.000000</td>\n",
              "      <td>722.000000</td>\n",
              "      <td>722.000000</td>\n",
              "      <td>722.000000</td>\n",
              "    </tr>\n",
              "    <tr>\n",
              "      <th>mean</th>\n",
              "      <td>0.411357</td>\n",
              "      <td>24.520776</td>\n",
              "      <td>10.267313</td>\n",
              "      <td>0.800554</td>\n",
              "      <td>0.105263</td>\n",
              "      <td>0.162050</td>\n",
              "      <td>0.779778</td>\n",
              "      <td>3042.896575</td>\n",
              "      <td>5454.635848</td>\n",
              "    </tr>\n",
              "    <tr>\n",
              "      <th>std</th>\n",
              "      <td>0.492421</td>\n",
              "      <td>6.625947</td>\n",
              "      <td>1.704774</td>\n",
              "      <td>0.399861</td>\n",
              "      <td>0.307105</td>\n",
              "      <td>0.368752</td>\n",
              "      <td>0.414683</td>\n",
              "      <td>5066.143366</td>\n",
              "      <td>6252.943422</td>\n",
              "    </tr>\n",
              "    <tr>\n",
              "      <th>min</th>\n",
              "      <td>0.000000</td>\n",
              "      <td>17.000000</td>\n",
              "      <td>3.000000</td>\n",
              "      <td>0.000000</td>\n",
              "      <td>0.000000</td>\n",
              "      <td>0.000000</td>\n",
              "      <td>0.000000</td>\n",
              "      <td>0.000000</td>\n",
              "      <td>0.000000</td>\n",
              "    </tr>\n",
              "    <tr>\n",
              "      <th>25%</th>\n",
              "      <td>0.000000</td>\n",
              "      <td>19.000000</td>\n",
              "      <td>9.000000</td>\n",
              "      <td>1.000000</td>\n",
              "      <td>0.000000</td>\n",
              "      <td>0.000000</td>\n",
              "      <td>1.000000</td>\n",
              "      <td>0.000000</td>\n",
              "      <td>0.000000</td>\n",
              "    </tr>\n",
              "    <tr>\n",
              "      <th>50%</th>\n",
              "      <td>0.000000</td>\n",
              "      <td>23.000000</td>\n",
              "      <td>10.000000</td>\n",
              "      <td>1.000000</td>\n",
              "      <td>0.000000</td>\n",
              "      <td>0.000000</td>\n",
              "      <td>1.000000</td>\n",
              "      <td>936.307950</td>\n",
              "      <td>3951.889000</td>\n",
              "    </tr>\n",
              "    <tr>\n",
              "      <th>75%</th>\n",
              "      <td>1.000000</td>\n",
              "      <td>27.000000</td>\n",
              "      <td>11.000000</td>\n",
              "      <td>1.000000</td>\n",
              "      <td>0.000000</td>\n",
              "      <td>0.000000</td>\n",
              "      <td>1.000000</td>\n",
              "      <td>3993.207000</td>\n",
              "      <td>8772.004250</td>\n",
              "    </tr>\n",
              "    <tr>\n",
              "      <th>max</th>\n",
              "      <td>1.000000</td>\n",
              "      <td>55.000000</td>\n",
              "      <td>16.000000</td>\n",
              "      <td>1.000000</td>\n",
              "      <td>1.000000</td>\n",
              "      <td>1.000000</td>\n",
              "      <td>1.000000</td>\n",
              "      <td>37431.660000</td>\n",
              "      <td>60307.930000</td>\n",
              "    </tr>\n",
              "  </tbody>\n",
              "</table>\n",
              "</div>"
            ],
            "text/plain": [
              "        treatment         age  ...          RE75          RE78\n",
              "count  722.000000  722.000000  ...    722.000000    722.000000\n",
              "mean     0.411357   24.520776  ...   3042.896575   5454.635848\n",
              "std      0.492421    6.625947  ...   5066.143366   6252.943422\n",
              "min      0.000000   17.000000  ...      0.000000      0.000000\n",
              "25%      0.000000   19.000000  ...      0.000000      0.000000\n",
              "50%      0.000000   23.000000  ...    936.307950   3951.889000\n",
              "75%      1.000000   27.000000  ...   3993.207000   8772.004250\n",
              "max      1.000000   55.000000  ...  37431.660000  60307.930000\n",
              "\n",
              "[8 rows x 9 columns]"
            ]
          },
          "metadata": {
            "tags": []
          },
          "execution_count": 4
        }
      ]
    },
    {
      "cell_type": "code",
      "metadata": {
        "colab": {
          "base_uri": "https://localhost:8080/"
        },
        "id": "QSM0bV6zuqxL",
        "outputId": "b35fd66a-b447-4485-8a5a-c5215e1f83e9"
      },
      "source": [
        "lalonde.isnull().sum()"
      ],
      "execution_count": 5,
      "outputs": [
        {
          "output_type": "execute_result",
          "data": {
            "text/plain": [
              "treatment    0\n",
              "age          0\n",
              "education    0\n",
              "Black        0\n",
              "Hispanic     0\n",
              "married      0\n",
              "nodegree     0\n",
              "RE75         0\n",
              "RE78         0\n",
              "dtype: int64"
            ]
          },
          "metadata": {
            "tags": []
          },
          "execution_count": 5
        }
      ]
    },
    {
      "cell_type": "code",
      "metadata": {
        "id": "NXI-xWJju129"
      },
      "source": [
        "from sklearn import linear_model"
      ],
      "execution_count": 13,
      "outputs": []
    },
    {
      "cell_type": "code",
      "metadata": {
        "id": "zJzCe9n4w47N"
      },
      "source": [
        "z = lalonde.treatment \n",
        "X = lalonde[['age', 'education', 'Black', 'Hispanic', 'married', 'nodegree']].values"
      ],
      "execution_count": 17,
      "outputs": []
    },
    {
      "cell_type": "code",
      "metadata": {
        "id": "cN0D30IE-Jxz"
      },
      "source": [
        "ps = pd.DataFrame({'Treatment': lalonde.treatment})"
      ],
      "execution_count": 40,
      "outputs": []
    },
    {
      "cell_type": "code",
      "metadata": {
        "id": "7Ufb_Uuzw9AI"
      },
      "source": [
        "ridge = linear_model.Ridge()"
      ],
      "execution_count": 41,
      "outputs": []
    },
    {
      "cell_type": "code",
      "metadata": {
        "id": "I8JAxQ4nxDVB",
        "colab": {
          "base_uri": "https://localhost:8080/"
        },
        "outputId": "dad2a2b9-d027-46d1-86f0-35f322c4d6e3"
      },
      "source": [
        "ridge.fit(X, z)"
      ],
      "execution_count": 42,
      "outputs": [
        {
          "output_type": "execute_result",
          "data": {
            "text/plain": [
              "Ridge(alpha=1.0, copy_X=True, fit_intercept=True, max_iter=None,\n",
              "      normalize=False, random_state=None, solver='auto', tol=0.001)"
            ]
          },
          "metadata": {
            "tags": []
          },
          "execution_count": 42
        }
      ]
    },
    {
      "cell_type": "code",
      "metadata": {
        "id": "hSJ5-xth-Tn1"
      },
      "source": [
        "ps['Ridge'] = ridge.predict(X)"
      ],
      "execution_count": 43,
      "outputs": []
    },
    {
      "cell_type": "code",
      "metadata": {
        "id": "UZjeGGCw-WFU"
      },
      "source": [
        "lasso = linear_model.Lasso()"
      ],
      "execution_count": 44,
      "outputs": []
    },
    {
      "cell_type": "code",
      "metadata": {
        "colab": {
          "base_uri": "https://localhost:8080/"
        },
        "id": "PCth02Xf-rLR",
        "outputId": "9cc4e254-0c5f-4f14-bca2-ff9f58da8a76"
      },
      "source": [
        "lasso.fit(X, z)"
      ],
      "execution_count": 45,
      "outputs": [
        {
          "output_type": "execute_result",
          "data": {
            "text/plain": [
              "Lasso(alpha=1.0, copy_X=True, fit_intercept=True, max_iter=1000,\n",
              "      normalize=False, positive=False, precompute=False, random_state=None,\n",
              "      selection='cyclic', tol=0.0001, warm_start=False)"
            ]
          },
          "metadata": {
            "tags": []
          },
          "execution_count": 45
        }
      ]
    },
    {
      "cell_type": "code",
      "metadata": {
        "id": "Oh2jHJ_b-srp"
      },
      "source": [
        "ps['Lasso'] = lasso.predict(X)"
      ],
      "execution_count": 46,
      "outputs": []
    },
    {
      "cell_type": "code",
      "metadata": {
        "colab": {
          "base_uri": "https://localhost:8080/"
        },
        "id": "e3L4LtGG-vFQ",
        "outputId": "d392db05-62bc-4ba1-f94c-eaab6e615307"
      },
      "source": [
        "ps['Lasso']"
      ],
      "execution_count": 47,
      "outputs": [
        {
          "output_type": "execute_result",
          "data": {
            "text/plain": [
              "0      0.411357\n",
              "1      0.411357\n",
              "2      0.411357\n",
              "3      0.411357\n",
              "4      0.411357\n",
              "         ...   \n",
              "717    0.411357\n",
              "718    0.411357\n",
              "719    0.411357\n",
              "720    0.411357\n",
              "721    0.411357\n",
              "Name: Lasso, Length: 722, dtype: float64"
            ]
          },
          "metadata": {
            "tags": []
          },
          "execution_count": 47
        }
      ]
    },
    {
      "cell_type": "code",
      "metadata": {
        "id": "lhGSD2sX-vts"
      },
      "source": [
        "lr = linear_model.LogisticRegression()"
      ],
      "execution_count": 48,
      "outputs": []
    },
    {
      "cell_type": "code",
      "metadata": {
        "colab": {
          "base_uri": "https://localhost:8080/"
        },
        "id": "RTJY_4I6_E1U",
        "outputId": "64b8fbd4-3ee6-4330-a464-b19777994124"
      },
      "source": [
        "lr.fit(X, z)"
      ],
      "execution_count": 49,
      "outputs": [
        {
          "output_type": "execute_result",
          "data": {
            "text/plain": [
              "LogisticRegression(C=1.0, class_weight=None, dual=False, fit_intercept=True,\n",
              "                   intercept_scaling=1, l1_ratio=None, max_iter=100,\n",
              "                   multi_class='auto', n_jobs=None, penalty='l2',\n",
              "                   random_state=None, solver='lbfgs', tol=0.0001, verbose=0,\n",
              "                   warm_start=False)"
            ]
          },
          "metadata": {
            "tags": []
          },
          "execution_count": 49
        }
      ]
    },
    {
      "cell_type": "code",
      "metadata": {
        "id": "YYQHHrqs_GPn"
      },
      "source": [
        "ps['Logistic'] = lr.predict_proba(X)[:,0]"
      ],
      "execution_count": 55,
      "outputs": []
    },
    {
      "cell_type": "code",
      "metadata": {
        "id": "iizm6BfuCLJG"
      },
      "source": [
        "ps['Logistic 2'] = lr.predict_proba(X)[:,1] # legit"
      ],
      "execution_count": 65,
      "outputs": []
    },
    {
      "cell_type": "code",
      "metadata": {
        "colab": {
          "base_uri": "https://localhost:8080/",
          "height": 419
        },
        "id": "IadGZanw_SbZ",
        "outputId": "56001692-3d0f-4cb7-f915-d00ab0ca3ab2"
      },
      "source": [
        "ps"
      ],
      "execution_count": 66,
      "outputs": [
        {
          "output_type": "execute_result",
          "data": {
            "text/html": [
              "<div>\n",
              "<style scoped>\n",
              "    .dataframe tbody tr th:only-of-type {\n",
              "        vertical-align: middle;\n",
              "    }\n",
              "\n",
              "    .dataframe tbody tr th {\n",
              "        vertical-align: top;\n",
              "    }\n",
              "\n",
              "    .dataframe thead th {\n",
              "        text-align: right;\n",
              "    }\n",
              "</style>\n",
              "<table border=\"1\" class=\"dataframe\">\n",
              "  <thead>\n",
              "    <tr style=\"text-align: right;\">\n",
              "      <th></th>\n",
              "      <th>Treatment</th>\n",
              "      <th>Ridge</th>\n",
              "      <th>Lasso</th>\n",
              "      <th>Logistic</th>\n",
              "      <th>Logistic 2</th>\n",
              "    </tr>\n",
              "  </thead>\n",
              "  <tbody>\n",
              "    <tr>\n",
              "      <th>0</th>\n",
              "      <td>1.0</td>\n",
              "      <td>0.354465</td>\n",
              "      <td>0.411357</td>\n",
              "      <td>0.642987</td>\n",
              "      <td>0.357013</td>\n",
              "    </tr>\n",
              "    <tr>\n",
              "      <th>1</th>\n",
              "      <td>0.0</td>\n",
              "      <td>0.351055</td>\n",
              "      <td>0.411357</td>\n",
              "      <td>0.645755</td>\n",
              "      <td>0.354245</td>\n",
              "    </tr>\n",
              "    <tr>\n",
              "      <th>2</th>\n",
              "      <td>0.0</td>\n",
              "      <td>0.391251</td>\n",
              "      <td>0.411357</td>\n",
              "      <td>0.609046</td>\n",
              "      <td>0.390954</td>\n",
              "    </tr>\n",
              "    <tr>\n",
              "      <th>3</th>\n",
              "      <td>0.0</td>\n",
              "      <td>0.378004</td>\n",
              "      <td>0.411357</td>\n",
              "      <td>0.620011</td>\n",
              "      <td>0.379989</td>\n",
              "    </tr>\n",
              "    <tr>\n",
              "      <th>4</th>\n",
              "      <td>0.0</td>\n",
              "      <td>0.392950</td>\n",
              "      <td>0.411357</td>\n",
              "      <td>0.607690</td>\n",
              "      <td>0.392310</td>\n",
              "    </tr>\n",
              "    <tr>\n",
              "      <th>...</th>\n",
              "      <td>...</td>\n",
              "      <td>...</td>\n",
              "      <td>...</td>\n",
              "      <td>...</td>\n",
              "      <td>...</td>\n",
              "    </tr>\n",
              "    <tr>\n",
              "      <th>717</th>\n",
              "      <td>1.0</td>\n",
              "      <td>0.501551</td>\n",
              "      <td>0.411357</td>\n",
              "      <td>0.500905</td>\n",
              "      <td>0.499095</td>\n",
              "    </tr>\n",
              "    <tr>\n",
              "      <th>718</th>\n",
              "      <td>1.0</td>\n",
              "      <td>0.385385</td>\n",
              "      <td>0.411357</td>\n",
              "      <td>0.613907</td>\n",
              "      <td>0.386093</td>\n",
              "    </tr>\n",
              "    <tr>\n",
              "      <th>719</th>\n",
              "      <td>1.0</td>\n",
              "      <td>0.520328</td>\n",
              "      <td>0.411357</td>\n",
              "      <td>0.482228</td>\n",
              "      <td>0.517772</td>\n",
              "    </tr>\n",
              "    <tr>\n",
              "      <th>720</th>\n",
              "      <td>0.0</td>\n",
              "      <td>0.385385</td>\n",
              "      <td>0.411357</td>\n",
              "      <td>0.613907</td>\n",
              "      <td>0.386093</td>\n",
              "    </tr>\n",
              "    <tr>\n",
              "      <th>721</th>\n",
              "      <td>1.0</td>\n",
              "      <td>0.397918</td>\n",
              "      <td>0.411357</td>\n",
              "      <td>0.601288</td>\n",
              "      <td>0.398712</td>\n",
              "    </tr>\n",
              "  </tbody>\n",
              "</table>\n",
              "<p>722 rows × 5 columns</p>\n",
              "</div>"
            ],
            "text/plain": [
              "     Treatment     Ridge     Lasso  Logistic  Logistic 2\n",
              "0          1.0  0.354465  0.411357  0.642987    0.357013\n",
              "1          0.0  0.351055  0.411357  0.645755    0.354245\n",
              "2          0.0  0.391251  0.411357  0.609046    0.390954\n",
              "3          0.0  0.378004  0.411357  0.620011    0.379989\n",
              "4          0.0  0.392950  0.411357  0.607690    0.392310\n",
              "..         ...       ...       ...       ...         ...\n",
              "717        1.0  0.501551  0.411357  0.500905    0.499095\n",
              "718        1.0  0.385385  0.411357  0.613907    0.386093\n",
              "719        1.0  0.520328  0.411357  0.482228    0.517772\n",
              "720        0.0  0.385385  0.411357  0.613907    0.386093\n",
              "721        1.0  0.397918  0.411357  0.601288    0.398712\n",
              "\n",
              "[722 rows x 5 columns]"
            ]
          },
          "metadata": {
            "tags": []
          },
          "execution_count": 66
        }
      ]
    },
    {
      "cell_type": "code",
      "metadata": {
        "id": "AfwwSdFe_rju"
      },
      "source": [
        "def show_pre_match_before(data, treatment_colname, algo_colname):\n",
        "    plt.figure(figsize = (9, 6))\n",
        "    \n",
        "    treatment = data[data[treatment_colname]==1]\n",
        "    control = data[data[treatment_colname]==0]\n",
        "    \n",
        "    dic_treat = dict(list(zip(treatment[algo_colname].index, treatment[algo_colname])))\n",
        "    dic_control = dict(list(zip(control[algo_colname].index, control[algo_colname])))\n",
        "    \n",
        "    plt.title(algo_colname)\n",
        "    plt.hist(list(dic_treat.values()), density = True, bins = 50, alpha = 0.5, label = '1')\n",
        "    plt.hist(list(dic_control.values()), density = True, bins = 50, alpha = 0.5, label = '0')\n",
        "    plt.legend(loc = 'upper right')\n",
        "    \n",
        "    #plt.savefig('pre_matching_before '+algo_colname+str(date.today())+'.png')\n",
        "    plt.show()\n",
        "    "
      ],
      "execution_count": 61,
      "outputs": []
    },
    {
      "cell_type": "code",
      "metadata": {
        "colab": {
          "base_uri": "https://localhost:8080/",
          "height": 390
        },
        "id": "13SlJ8YJBx_B",
        "outputId": "8fcce54d-2718-4664-bf35-f6395cdf3713"
      },
      "source": [
        "show_pre_match_before(ps, 'Treatment', 'Ridge')"
      ],
      "execution_count": 62,
      "outputs": [
        {
          "output_type": "display_data",
          "data": {
            "image/png": "[encoded data removed]",
            "text/plain": [
              "<Figure size 648x432 with 1 Axes>"
            ]
          },
          "metadata": {
            "tags": [],
            "needs_background": "light"
          }
        }
      ]
    },
    {
      "cell_type": "code",
      "metadata": {
        "colab": {
          "base_uri": "https://localhost:8080/",
          "height": 390
        },
        "id": "4KsL2SoiB3r6",
        "outputId": "3d68590e-3c33-47cb-8bdc-1076f5100912"
      },
      "source": [
        "show_pre_match_before(ps, 'Treatment', 'Lasso')"
      ],
      "execution_count": 63,
      "outputs": [
        {
          "output_type": "display_data",
          "data": {
            "image/png": "[encoded data removed]",
            "text/plain": [
              "<Figure size 648x432 with 1 Axes>"
            ]
          },
          "metadata": {
            "tags": [],
            "needs_background": "light"
          }
        }
      ]
    },
    {
      "cell_type": "code",
      "metadata": {
        "colab": {
          "base_uri": "https://localhost:8080/",
          "height": 390
        },
        "id": "PvGgGLP6CB8m",
        "outputId": "7b069eeb-7c4f-48d0-9920-755299b5a917"
      },
      "source": [
        "show_pre_match_before(ps, 'Treatment', 'Logistic')"
      ],
      "execution_count": 64,
      "outputs": [
        {
          "output_type": "display_data",
          "data": {
            "image/png": "[encoded data removed]",
            "text/plain": [
              "<Figure size 648x432 with 1 Axes>"
            ]
          },
          "metadata": {
            "tags": [],
            "needs_background": "light"
          }
        }
      ]
    },
    {
      "cell_type": "code",
      "metadata": {
        "colab": {
          "base_uri": "https://localhost:8080/",
          "height": 390
        },
        "id": "gFtf4cC0CEd3",
        "outputId": "2f00f2c0-ecdb-45c8-9b9b-6289d86c9d98"
      },
      "source": [
        "show_pre_match_before(ps, 'Treatment', 'Logistic 2')"
      ],
      "execution_count": 67,
      "outputs": [
        {
          "output_type": "display_data",
          "data": {
            "image/png": "[encoded data removed]",
            "text/plain": [
              "<Figure size 648x432 with 1 Axes>"
            ]
          },
          "metadata": {
            "tags": [],
            "needs_background": "light"
          }
        }
      ]
    },
    {
      "cell_type": "code",
      "metadata": {
        "id": "4tzmDrWmCSRZ"
      },
      "source": [
        "def dist(a,b):\n",
        "    \"\"\"\n",
        "    목적: 절댓값 거리 구하기\n",
        "    \n",
        "    인풋\n",
        "    a: 어떤 실수값 1\n",
        "    b: 어떤 실수값 2\n",
        "    \n",
        "    리턴\n",
        "    두 실수 a,b 사이의 절대값 차이 \n",
        "    \n",
        "    \"\"\"\n",
        "    return abs(a-b) \n",
        "\n",
        "# return list of pairs (treat, control)\n",
        "def match_sample_without_replace(d_trt, d_ctrl):\n",
        "    \"\"\"\n",
        "    목적: replace 없이 샘플링을 하는 함수\n",
        "    \n",
        "    \"\"\"\n",
        "    sam = []\n",
        "    for k, v in d_trt.items():\n",
        "        tmp = {}\n",
        "        for k_, v_ in d_ctrl.items():\n",
        "            tmp[k_] = dist(v, v_) \n",
        "        #print(k, tmp)\n",
        "        mini = min(tmp, key = tmp.get) \n",
        "        sam.append((k, mini)) \n",
        "        #print(mini) \n",
        "        del d_ctrl[mini]\n",
        "    return sam\n",
        "\n",
        "def match_sample_with_replace(d_trt, d_ctrl):\n",
        "    \"\"\"\n",
        "    목적: with replacement로 샘플링을 하는 함수 \n",
        "    \n",
        "    인풋\n",
        "    d_trt: treatment 값이 1인 데이터 인덱스와 특정 regressor에 따른 점수를 묶어 나타낸 dictionary 형식의 데이터\n",
        "    d_ctrl: treatment 값이 0인 데이터 인덱스와 특정 regressor에 따른 점수를 묶어 나타낸 dictionary 형식의 데이터\n",
        "    \n",
        "    리턴\n",
        "    treatment와 control 점수 차이가 최소인 한 쌍의 인덱스를 뽑아서, 한 쪽은 treatment sample로, 다른쪽은 control sample로 들어갑니다. \n",
        "    \n",
        "    1. input: dictionary data type, treatment, control \n",
        "    2. first input is the actor, and second is the responder \n",
        "    3. return the list of indices for each group: treatment and control 5\n",
        "    \"\"\"\n",
        "    sam = []\n",
        "    for k, v in d_trt.items():\n",
        "        tmp = {}\n",
        "        for k_, v_ in d_ctrl.items():\n",
        "            tmp[k_] = dist(v, v_)\n",
        "        mini = min(tmp, key = tmp.get)\n",
        "        sam.append((k, mini))\n",
        "    treat = []\n",
        "    control = []\n",
        "    for t,c in sam:\n",
        "        treat.append(t)\n",
        "        control.append(c) \n",
        "        \n",
        "    treat = list(set(treat)) \n",
        "    control = list(set(control))\n",
        "    # indices\n",
        "    \n",
        "    return treat, control"
      ],
      "execution_count": 70,
      "outputs": []
    },
    {
      "cell_type": "code",
      "metadata": {
        "id": "nNqiVG8HDURV"
      },
      "source": [
        "def zip_up_idx_reg(data, treatment_colname, reg_col_name):\n",
        "    \"\"\"\n",
        "    목적: regressor별로 treatment 데이터의 인덱스와 regresson 값, control 데이터의 인덱스와 regression 값을 를 \n",
        "        dictionary 형식으로 묶어내기\n",
        "    \n",
        "    인풋\n",
        "    treat: treatment 값이 1인 데이터프레임\n",
        "    control: treatment 값이 0인 데이터프레임\n",
        "    regf_col_name: 사용할 regressor의 칼럼 이름\n",
        "    \n",
        "    리턴\n",
        "    treatment가 1인 데이터의 인덱스값과 해당 regressor의 값 \n",
        "    treatment가 0인 데이터의 인덱스값과 해당 regressor의 값 \n",
        "    \n",
        "    treat: dataframe treatment value is 1\n",
        "    control: dataframe treatment value is 0 \n",
        "    reg_col_name: column name of a specific target regressor [Logit, Lasso, Ridge, RF] Sep 27 2020 \n",
        "    \n",
        "    reeturn the dictionary key: value pair (key: index of the data, value: regressor value)\n",
        "    \"\"\"\n",
        "    \n",
        "    treat = data[data[treatment_colname]==1]\n",
        "    control = data[data[treatment_colname]==0]\n",
        "    \n",
        "    ones = dict(list(zip(treat[reg_col_name].index, treat[reg_col_name])))\n",
        "    zeros = dict(list(zip(control[reg_col_name].index, control[reg_col_name])))\n",
        "    return ones, zeros"
      ],
      "execution_count": 71,
      "outputs": []
    },
    {
      "cell_type": "code",
      "metadata": {
        "id": "hMntcDHGDWa3"
      },
      "source": [
        "ridge_one, ridge_zero = zip_up_idx_reg(ps, 'Treatment', 'Ridge')\n",
        "logit_one, logit_zero = zip_up_idx_reg(ps, 'Treatment', 'Logistic 2')"
      ],
      "execution_count": 72,
      "outputs": []
    },
    {
      "cell_type": "code",
      "metadata": {
        "id": "loPkMAA6Dj4u"
      },
      "source": [
        "ridge_treat, ridge_control = match_sample_with_replace(ridge_one, ridge_zero)\n",
        "logit_treat, logit_control = match_sample_with_replace(logit_one, logit_zero)"
      ],
      "execution_count": 73,
      "outputs": []
    },
    {
      "cell_type": "code",
      "metadata": {
        "id": "8-eu_1BoDxPL"
      },
      "source": [
        "def save_pre_match_after(data, treatment_colname, algo_colname):\n",
        "    \n",
        "    treatment = data[data[treatment_colname]==1]\n",
        "    control = data[data[treatment_colname]==0]\n",
        "    \n",
        "    dic_treat = dict(list(zip(treatment[algo_colname].index, treatment[algo_colname])))\n",
        "    dic_control = dict(list(zip(control[algo_colname].index, control[algo_colname])))\n",
        "    \n",
        "    matched_treat, matched_control = match_sample_with_replace(dic_treat, dic_control)\n",
        "    # indices\n",
        "    \n",
        "    treat_data = data.loc[matched_treat]\n",
        "    control_data = data.loc[matched_control]\n",
        "    print(algo_colname,\"\\ntreated: \", treat_data.shape, \"\\ncontrolled: \", control_data.shape,\"\\n\")\n",
        "    return treat_data, control_data"
      ],
      "execution_count": 74,
      "outputs": []
    },
    {
      "cell_type": "code",
      "metadata": {
        "colab": {
          "base_uri": "https://localhost:8080/"
        },
        "id": "TwSwjsFeD_ME",
        "outputId": "fe359391-df4a-45f6-c069-393274d770d9"
      },
      "source": [
        "logit_matched_treat, logit_matched_control = save_pre_match_after(ps, 'Treatment', 'Logistic 2')"
      ],
      "execution_count": 76,
      "outputs": [
        {
          "output_type": "stream",
          "text": [
            "Logistic 2 \n",
            "treated:  (297, 5) \n",
            "controlled:  (133, 5) \n",
            "\n"
          ],
          "name": "stdout"
        }
      ]
    },
    {
      "cell_type": "code",
      "metadata": {
        "colab": {
          "base_uri": "https://localhost:8080/"
        },
        "id": "cYuOnldEELrg",
        "outputId": "292dbc17-84c5-4344-ceb2-d9248c2c3ae4"
      },
      "source": [
        "ridge_matched_treat, ridge_matched_control = save_pre_match_after(ps, 'Treatment', 'Ridge')"
      ],
      "execution_count": 78,
      "outputs": [
        {
          "output_type": "stream",
          "text": [
            "Ridge \n",
            "treated:  (297, 5) \n",
            "controlled:  (131, 5) \n",
            "\n"
          ],
          "name": "stdout"
        }
      ]
    },
    {
      "cell_type": "code",
      "metadata": {
        "id": "7cdOExzeESck"
      },
      "source": [
        "def show_pre_match_after(data, treatment_colname, algo_colname):\n",
        "    plt.figure(figsize = (9, 6))\n",
        "    \n",
        "    treatment = data[data[treatment_colname]==1]\n",
        "    control = data[data[treatment_colname]==0]\n",
        "    \n",
        "    dic_treat = dict(list(zip(treatment[algo_colname].index, treatment[algo_colname])))\n",
        "    dic_control = dict(list(zip(control[algo_colname].index, control[algo_colname])))\n",
        "    \n",
        "    matched_treat, matched_control = match_sample_with_replace(dic_treat, dic_control)\n",
        "    # indices\n",
        "    \n",
        "#     treat_data = data.loc[matched_treat]\n",
        "#     control_data = data.loc[matched_control]\n",
        "    \n",
        "    plt.title(algo_colname)\n",
        "    plt.hist([dic_treat[x] for x in matched_treat], density = True, bins = 50, alpha = 0.5, color = 'r', label = '1')\n",
        "    plt.hist([dic_control[x] for x in matched_control], density = True, bins = 50, alpha = 0.5, color = 'c', label = '0')\n",
        "    plt.legend(loc = 'upper right')\n",
        "    \n",
        "    #plt.savefig('pre_matching_after '+algo_colname+str(date.today())+'.png')\n",
        "    plt.show()\n",
        "    "
      ],
      "execution_count": 83,
      "outputs": []
    },
    {
      "cell_type": "code",
      "metadata": {
        "colab": {
          "base_uri": "https://localhost:8080/",
          "height": 390
        },
        "id": "RuVIOyEpEc49",
        "outputId": "1c4cc720-bf22-44df-823a-52b88e2c9d69"
      },
      "source": [
        "show_pre_match_after(ps, 'Treatment', 'Logistic')"
      ],
      "execution_count": 84,
      "outputs": [
        {
          "output_type": "display_data",
          "data": {
            "image/png": "[encoded data removed]",
            "text/plain": [
              "<Figure size 648x432 with 1 Axes>"
            ]
          },
          "metadata": {
            "tags": [],
            "needs_background": "light"
          }
        }
      ]
    },
    {
      "cell_type": "code",
      "metadata": {
        "colab": {
          "base_uri": "https://localhost:8080/",
          "height": 390
        },
        "id": "erVsL5i7Eg5W",
        "outputId": "884919c6-7c64-4b2c-9003-5ef788bc828a"
      },
      "source": [
        "show_pre_match_after(ps, 'Treatment', 'Ridge')"
      ],
      "execution_count": 85,
      "outputs": [
        {
          "output_type": "display_data",
          "data": {
            "image/png": "[encoded data removed]",
            "text/plain": [
              "<Figure size 648x432 with 1 Axes>"
            ]
          },
          "metadata": {
            "tags": [],
            "needs_background": "light"
          }
        }
      ]
    },
    {
      "cell_type": "code",
      "metadata": {
        "id": "4sGKtGJpElCc"
      },
      "source": [
        ""
      ],
      "execution_count": null,
      "outputs": []
    }
  ]
}